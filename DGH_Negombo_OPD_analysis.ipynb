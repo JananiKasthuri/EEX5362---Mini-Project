{
 "cells": [
  {
   "cell_type": "code",
   "execution_count": 1,
   "id": "5a5f80c9-c782-4687-a5fb-a1f5c84f29e6",
   "metadata": {},
   "outputs": [],
   "source": [
    "import pandas as pd\n",
    "import numpy as np\n",
    "from datetime import datetime, timedelta"
   ]
  },
  {
   "cell_type": "code",
   "execution_count": 2,
   "id": "3ee2660c-fb83-485e-bbc7-dd95eb95a58b",
   "metadata": {},
   "outputs": [],
   "source": [
    "# Set random seed for reproducible results\n",
    "np.random.seed(42)\n",
    "\n",
    "def simulate_opd_data(num_patients=400):\n",
    "    \"\"\"\n",
    "    Simulate OPD patient data for DGH Negombo\n",
    "    Peak hours: First 4 hours (8:00 AM - 12:00 PM)\n",
    "    Total service time: 8 hours (8:00 AM - 4:00 PM)\n",
    "    \"\"\"\n",
    "    # Create base date (today at 8:00 AM)\n",
    "    base_date = datetime.now().replace(hour=8, minute=0, second=0, microsecond=0)\n",
    "    \n",
    "    data = []\n",
    "    current_time = base_date\n",
    "    \n",
    "    for patient_id in range(1, num_patients + 1):\n",
    "        # Simulate arrival time - more patients during peak hours (first 4 hours)\n",
    "        if patient_id <= 280:  # 70% of patients in first 4 hours (peak)\n",
    "            inter_arrival = np.random.exponential(1.0)  # 1.0 minute average during peak\n",
    "        else:  # Remaining 30% of patients in next 4 hours (off-peak)\n",
    "            inter_arrival = np.random.exponential(4.0)  # 4.0 minutes average during off-peak\n",
    "            \n",
    "        current_time += timedelta(minutes=inter_arrival)\n",
    "        \n",
    "        # Stop generating patients after 4:00 PM (8 hours total)\n",
    "        if current_time.hour >= 16:  # 4:00 PM\n",
    "            break\n",
    "        \n",
    "        # Simulate registration time (1-4 minutes)\n",
    "        registration_time = np.random.uniform(1, 4)\n",
    "        \n",
    "        # Simulate waiting time for doctor (10-120 minutes)\n",
    "        waiting_time = np.random.normal(45, 20)\n",
    "        waiting_time = max(5, waiting_time)  # Minimum 5 minutes wait\n",
    "        \n",
    "        # Simulate consultation time (3-15 minutes)\n",
    "        consultation_time = np.random.normal(8, 3)\n",
    "        consultation_time = max(2, consultation_time)  # Minimum 2 minutes\n",
    "        \n",
    "        # Calculate total time in system\n",
    "        total_time = registration_time + waiting_time + consultation_time\n",
    "        \n",
    "        patient_data = {\n",
    "            'patient_id': patient_id,\n",
    "            'arrival_time': current_time,\n",
    "            'registration_duration': round(registration_time, 2),\n",
    "            'waiting_time': round(waiting_time, 2),\n",
    "            'consultation_duration': round(consultation_time, 2),\n",
    "            'total_time_system': round(total_time, 2),\n",
    "            'age_group': np.random.choice(['Young', 'Adult', 'Elderly'], p=[0.2, 0.5, 0.3]),\n",
    "            'priority': np.random.choice(['Routine', 'Urgent'], p=[0.85, 0.15])\n",
    "        }\n",
    "        \n",
    "        data.append(patient_data)\n",
    "    \n",
    "    return pd.DataFrame(data)\n"
   ]
  },
  {
   "cell_type": "code",
   "execution_count": 3,
   "id": "b63947ea-66af-4a56-b0d4-5769012d25cf",
   "metadata": {},
   "outputs": [
    {
     "name": "stdout",
     "output_type": "stream",
     "text": [
      "Generating DGH Negombo OPD Dataset...\n",
      "Peak hours: 8:00 AM - 12:00 PM (first 4 hours)\n",
      "Total service time: 8:00 AM - 4:00 PM (8 hours)\n"
     ]
    }
   ],
   "source": [
    "# Generate the dataset\n",
    "print(\"Generating DGH Negombo OPD Dataset...\")\n",
    "print(\"Peak hours: 8:00 AM - 12:00 PM (first 4 hours)\")\n",
    "print(\"Total service time: 8:00 AM - 4:00 PM (8 hours)\")\n",
    "df = simulate_opd_data(400)"
   ]
  },
  {
   "cell_type": "code",
   "execution_count": 4,
   "id": "e0aaa19c-855f-4c7a-943c-1d8296b018cf",
   "metadata": {},
   "outputs": [
    {
     "name": "stdout",
     "output_type": "stream",
     "text": [
      "\n",
      "Dataset created with 333 patients\n",
      "Average waiting time: 45.8 minutes\n"
     ]
    }
   ],
   "source": [
    "# Display basic info\n",
    "print(f\"\\nDataset created with {len(df)} patients\")\n",
    "print(f\"Average waiting time: {df['waiting_time'].mean():.1f} minutes\")"
   ]
  },
  {
   "cell_type": "code",
   "execution_count": 5,
   "id": "8d9ad7ef-a29e-4bee-b04d-b15ccd979f59",
   "metadata": {},
   "outputs": [
    {
     "name": "stdout",
     "output_type": "stream",
     "text": [
      "\n",
      "Dataset saved as: dgh_negombo_opd_dataset.csv\n"
     ]
    }
   ],
   "source": [
    "# Save to CSV\n",
    "output_file = 'dgh_negombo_opd_dataset.csv'\n",
    "df.to_csv(output_file, index=False)\n",
    "print(f\"\\nDataset saved as: {output_file}\")"
   ]
  },
  {
   "cell_type": "code",
   "execution_count": 6,
   "id": "41fe2e53-d688-45ae-abda-ecd885632232",
   "metadata": {},
   "outputs": [
    {
     "name": "stdout",
     "output_type": "stream",
     "text": [
      "\n",
      "First 5 rows of the dataset:\n",
      "   patient_id               arrival_time  registration_duration  waiting_time  \\\n",
      "0           1 2025-10-31 08:00:28.156085                   3.85         57.95   \n",
      "1           2 2025-10-31 08:00:31.746411                   3.60         76.58   \n",
      "2           3 2025-10-31 08:02:18.932184                   1.64         35.73   \n",
      "3           4 2025-10-31 08:02:52.864408                   1.87         24.74   \n",
      "4           5 2025-10-31 08:03:29.400489                   3.36         46.35   \n",
      "\n",
      "   consultation_duration  total_time_system age_group priority  \n",
      "0                  12.57              74.38     Young  Routine  \n",
      "1                  10.30              90.49     Young   Urgent  \n",
      "2                   6.60              43.97     Adult  Routine  \n",
      "3                   8.94              35.56     Adult  Routine  \n",
      "4                   3.73              53.43     Adult  Routine  \n"
     ]
    }
   ],
   "source": [
    "# Show first few rows\n",
    "print(\"\\nFirst 5 rows of the dataset:\")\n",
    "print(df.head())"
   ]
  }
 ],
 "metadata": {
  "kernelspec": {
   "display_name": "Python [conda env:base] *",
   "language": "python",
   "name": "conda-base-py"
  },
  "language_info": {
   "codemirror_mode": {
    "name": "ipython",
    "version": 3
   },
   "file_extension": ".py",
   "mimetype": "text/x-python",
   "name": "python",
   "nbconvert_exporter": "python",
   "pygments_lexer": "ipython3",
   "version": "3.13.5"
  }
 },
 "nbformat": 4,
 "nbformat_minor": 5
}
